{
  "cells": [
    {
      "cell_type": "markdown",
      "source": [
        "# Color Recognition \n",
        "**My goal for this program was to make a neural network that could recognize the color of objects it sees. I felt that this would be useful to colorblind people, such as myself. Bellow is my code and explanations of each block of code I wrote.**"
      ],
      "metadata": {
        "id": "g_F2y7RMrEyi"
      }
    },
    {
      "cell_type": "markdown",
      "metadata": {
        "id": "eWnkhuXZ0nAj"
      },
      "source": [
        "This code block imports tensorflow and google drive files into the program."
      ]
    },
    {
      "cell_type": "code",
      "execution_count": null,
      "metadata": {
        "colab": {
          "base_uri": "https://localhost:8080/"
        },
        "id": "aHbbcST5iljR",
        "outputId": "ad5e8c72-b00d-4bc1-a482-2ab46e51d864"
      },
      "outputs": [
        {
          "output_type": "stream",
          "name": "stdout",
          "text": [
            "Drive already mounted at /content/drive; to attempt to forcibly remount, call drive.mount(\"/content/drive\", force_remount=True).\n"
          ]
        }
      ],
      "source": [
        "import tensorflow as tf\n",
        "from tensorflow import keras\n",
        "from tensorflow.keras import layers\n",
        "from google.colab import drive\n",
        "drive.mount('/content/drive')"
      ]
    },
    {
      "cell_type": "markdown",
      "source": [
        "This code block imports all the test and training images and turns them into an array."
      ],
      "metadata": {
        "id": "U-dZ8rhfesz2"
      }
    },
    {
      "cell_type": "code",
      "execution_count": null,
      "metadata": {
        "id": "u4YdmNjLfryl"
      },
      "outputs": [],
      "source": [
        "#--------Training Images---------\n",
        "import os\n",
        "import numpy as np\n",
        "\n",
        "image_width = 100\n",
        "image_height = 100\n",
        "\n",
        "def get_class_directories(root_dataset_directory = \"drive/MyDrive/ColorClassification\"): \n",
        "  class_directories= {}\n",
        "  for file_name in os.listdir(root_dataset_directory):\n",
        "    file_path = os.path.join(root_dataset_directory, file_name)\n",
        "    if os.path.isdir(file_path) and file_name != \".ipynb_checkpoints\":\n",
        "      class_directories[file_name] = file_path\n",
        "  return class_directories    \n",
        "\n",
        "def load_images_in_directory(directory_name):\n",
        "  output_images = []\n",
        "  for file_name in os.listdir(directory_name):\n",
        "    file_path = os.path.join(directory_name, file_name)\n",
        "    image = keras.utils.load_img(file_path, target_size=(image_height, image_width))\n",
        "    image = keras.utils.img_to_array(image)\n",
        "    output_images.append(image)\n",
        "  if len(output_images) > 0:\n",
        "    output_images = np.stack(output_images)\n",
        "  return output_images\n",
        "\n",
        "\n",
        "\n",
        "train_dataset = {\n",
        "    class_name: load_images_in_directory(class_directory)\n",
        "    for class_name, class_directory in get_class_directories().items()\n",
        "}\n",
        "#--------Test Images---------\n",
        "test_dataset = {\n",
        "    class_name: load_images_in_directory(class_directory)\n",
        "    for class_name, class_directory in get_class_directories(\"/content/drive/MyDrive/TestImages\").items()\n",
        "}"
      ]
    },
    {
      "cell_type": "markdown",
      "source": [
        "This code block prints the class names of the colors and shapes of each color's array. "
      ],
      "metadata": {
        "id": "QXQS9EoMfjR3"
      }
    },
    {
      "cell_type": "code",
      "execution_count": null,
      "metadata": {
        "colab": {
          "base_uri": "https://localhost:8080/"
        },
        "id": "mu62oBANQ04p",
        "outputId": "aa786e9b-90a5-4b1a-b34e-7d854819a66b"
      },
      "outputs": [
        {
          "output_type": "stream",
          "name": "stdout",
          "text": [
            "Violet (158, 100, 100, 3)\n",
            "red (174, 100, 100, 3)\n",
            "yellow (164, 100, 100, 3)\n",
            "orange (142, 100, 100, 3)\n",
            "White (130, 100, 100, 3)\n",
            "Green (165, 100, 100, 3)\n",
            "Brown (118, 100, 100, 3)\n",
            "Black (132, 100, 100, 3)\n",
            "Blue (204, 100, 100, 3)\n",
            "Black (20, 100, 100, 3)\n",
            "Blue (20, 100, 100, 3)\n",
            "Brown (20, 100, 100, 3)\n",
            "Green (20, 100, 100, 3)\n",
            "orange (20, 100, 100, 3)\n",
            "yellow (20, 100, 100, 3)\n",
            "Violet (20, 100, 100, 3)\n",
            "red (20, 100, 100, 3)\n",
            "White (20, 100, 100, 3)\n"
          ]
        }
      ],
      "source": [
        "for class_name, dataset in train_dataset.items():\n",
        "  print(class_name, dataset.shape)\n",
        "for class_name, dataset in test_dataset.items():\n",
        "  print(class_name, dataset.shape)"
      ]
    },
    {
      "cell_type": "markdown",
      "source": [
        "This code block makes a function that sorts the class names."
      ],
      "metadata": {
        "id": "mIoHrmJ_hF11"
      }
    },
    {
      "cell_type": "code",
      "execution_count": null,
      "metadata": {
        "id": "dRmhFQs7vTl0"
      },
      "outputs": [],
      "source": [
        "#------Training Images--------\n",
        "def labeled_images(dataset): \n",
        "  class_names_sorted = list(sorted(dataset.keys()))\n",
        "  print(class_names_sorted)\n",
        "  output_labels = {}\n",
        "\n",
        "  for i, class_name in enumerate(class_names_sorted):\n",
        "    number_of_examples = dataset[class_name].shape[0]\n",
        "    number_of_rows = number_of_examples\n",
        "    number_of_colums = len(class_names_sorted)\n",
        "    shape = (number_of_rows, number_of_colums)\n",
        "    output = np.zeros((number_of_examples, len(class_names_sorted))) \n",
        "    output[:, i] = 1\n",
        "    output_labels[class_name] = output\n",
        "  return output_labels"
      ]
    },
    {
      "cell_type": "markdown",
      "source": [
        "This code block uses the function above to sort the color labels."
      ],
      "metadata": {
        "id": "ye_LDaKnhaSK"
      }
    },
    {
      "cell_type": "code",
      "execution_count": null,
      "metadata": {
        "colab": {
          "base_uri": "https://localhost:8080/"
        },
        "id": "e4c5TwvvRftc",
        "outputId": "c8827acf-465f-4060-94ae-6c3148f7475b"
      },
      "outputs": [
        {
          "output_type": "stream",
          "name": "stdout",
          "text": [
            "['Black', 'Blue', 'Brown', 'Green', 'Violet', 'White', 'orange', 'red', 'yellow']\n",
            "['Black', 'Blue', 'Brown', 'Green', 'Violet', 'White', 'orange', 'red', 'yellow']\n"
          ]
        }
      ],
      "source": [
        "train_labels = labeled_images(train_dataset)\n",
        "test_labels = labeled_images(test_dataset)"
      ]
    },
    {
      "cell_type": "markdown",
      "source": [
        "This code block prints the number of images within each color name, and the total amount of color names there are."
      ],
      "metadata": {
        "id": "XTvjjLX3qmcj"
      }
    },
    {
      "cell_type": "code",
      "execution_count": null,
      "metadata": {
        "colab": {
          "base_uri": "https://localhost:8080/"
        },
        "id": "Qg_Ii-Yld9AJ",
        "outputId": "908ca3a4-022a-4782-afe3-9370b643f1fb"
      },
      "outputs": [
        {
          "output_type": "stream",
          "name": "stdout",
          "text": [
            "Black (132, 9)\n",
            "Blue (204, 9)\n",
            "Brown (118, 9)\n",
            "Green (165, 9)\n",
            "Violet (158, 9)\n",
            "White (130, 9)\n",
            "orange (142, 9)\n",
            "red (174, 9)\n",
            "yellow (164, 9)\n",
            "Black (20, 9)\n",
            "Blue (20, 9)\n",
            "Brown (20, 9)\n",
            "Green (20, 9)\n",
            "Violet (20, 9)\n",
            "White (20, 9)\n",
            "orange (20, 9)\n",
            "red (20, 9)\n",
            "yellow (20, 9)\n"
          ]
        }
      ],
      "source": [
        "for class_name, dataset in train_labels.items():\n",
        "  print(class_name, dataset.shape)\n",
        "for class_name, dataset in test_labels.items():\n",
        "  print(class_name, dataset.shape)"
      ]
    },
    {
      "cell_type": "markdown",
      "source": [
        "This code block creates a function that stacks all the color arrays in the testing and training image sets into one array."
      ],
      "metadata": {
        "id": "OGWAixMShtD4"
      }
    },
    {
      "cell_type": "code",
      "execution_count": null,
      "metadata": {
        "id": "af1bfPSTInuH"
      },
      "outputs": [],
      "source": [
        "def stack_dataset_classes(dataset): \n",
        "  class_names_sorted = list(sorted(dataset.keys()))\n",
        "  all_images = []\n",
        "  for class_name in class_names_sorted:\n",
        "    all_images.append(dataset[class_name])\n",
        "  stack_arrays = np.vstack(all_images)\n",
        "  return stack_arrays \n"
      ]
    },
    {
      "cell_type": "markdown",
      "source": [
        "This stacks all the color arrays from the test images and training images into one testing array and one training array."
      ],
      "metadata": {
        "id": "pn_vqyzCioE2"
      }
    },
    {
      "cell_type": "code",
      "execution_count": null,
      "metadata": {
        "colab": {
          "base_uri": "https://localhost:8080/"
        },
        "id": "8n2nYrQmYX--",
        "outputId": "eeac730a-80c5-475c-a2fd-fa29627350c9"
      },
      "outputs": [
        {
          "output_type": "stream",
          "name": "stdout",
          "text": [
            "(1387, 100, 100, 3)\n",
            "(1387, 9)\n",
            "(180, 100, 100, 3)\n",
            "(180, 9)\n"
          ]
        }
      ],
      "source": [
        "inputs = stack_dataset_classes(train_dataset)\n",
        "print(inputs.shape)\n",
        "outputs = stack_dataset_classes(train_labels)\n",
        "print(outputs.shape)\n",
        "test_inputs = stack_dataset_classes(test_dataset)\n",
        "print(test_inputs.shape)\n",
        "test_outputs = stack_dataset_classes(test_labels)\n",
        "print(test_outputs.shape)"
      ]
    },
    {
      "cell_type": "markdown",
      "source": [
        "This block of code creates the learning model and determines the neuron layers that the learning model has."
      ],
      "metadata": {
        "id": "qm1RsjyxjA23"
      }
    },
    {
      "cell_type": "code",
      "execution_count": null,
      "metadata": {
        "colab": {
          "base_uri": "https://localhost:8080/"
        },
        "id": "ax4SM2LkVs7a",
        "outputId": "a9081b4a-b9fc-4cc8-bed8-78cb89f26552"
      },
      "outputs": [
        {
          "output_type": "stream",
          "name": "stdout",
          "text": [
            "Model: \"sequential_6\"\n",
            "_________________________________________________________________\n",
            " Layer (type)                Output Shape              Param #   \n",
            "=================================================================\n",
            " conv2d_6 (Conv2D)           (None, 96, 96, 16)        1216      \n",
            "                                                                 \n",
            " flatten_6 (Flatten)         (None, 147456)            0         \n",
            "                                                                 \n",
            " dense_14 (Dense)            (None, 64)                9437248   \n",
            "                                                                 \n",
            " dense_15 (Dense)            (None, 64)                4160      \n",
            "                                                                 \n",
            " final_outputs (Dense)       (None, 9)                 585       \n",
            "                                                                 \n",
            "=================================================================\n",
            "Total params: 9,443,209\n",
            "Trainable params: 9,443,209\n",
            "Non-trainable params: 0\n",
            "_________________________________________________________________\n",
            "None\n"
          ]
        }
      ],
      "source": [
        "number_of_classes = len(train_dataset)\n",
        "number_of_color_channels = 3\n",
        "\n",
        "\n",
        "\n",
        "model = keras.Sequential(\n",
        "    [\n",
        "        keras.Input(shape=(image_height, image_width, number_of_color_channels), name=\"image\"),\n",
        "        layers.Conv2D(16, 5),\n",
        "        layers.Flatten(),\n",
        "        layers.Dense(64, activation=\"relu\"),\n",
        "        layers.Dense(64, activation=\"relu\"),\n",
        "        layers.Dense(number_of_classes, name=\"final_outputs\"),\n",
        "    ]\n",
        ")\n",
        "print(model.summary())"
      ]
    },
    {
      "cell_type": "markdown",
      "source": [
        "This block of code sets the learning rate, batch size, shuffles the datasets, and creates validation datasets.\n",
        "\n",
        "---\n",
        "\n"
      ],
      "metadata": {
        "id": "wjXSYLE1kAsi"
      }
    },
    {
      "cell_type": "code",
      "execution_count": null,
      "metadata": {
        "colab": {
          "base_uri": "https://localhost:8080/"
        },
        "id": "0uDso0bKhb0q",
        "outputId": "84e2874a-ad40-4394-c86f-ab4b389dd188"
      },
      "outputs": [
        {
          "output_type": "stream",
          "name": "stdout",
          "text": [
            "(180, 100, 100, 3)\n",
            "(180, 9)\n"
          ]
        }
      ],
      "source": [
        "optimizer = keras.optimizers.SGD(learning_rate=1e-5) \n",
        "\n",
        "loss_fn = keras.losses.CategoricalCrossentropy(from_logits=True)\n",
        "\n",
        "batch_size = 20\n",
        "\n",
        "validation_set_size = int(len(test_inputs)*.1)\n",
        "shuffle_index = list(range(len(test_inputs)))\n",
        "np.random.shuffle(shuffle_index) \n",
        "shuffle_inputs = test_inputs[list(shuffle_index),:]\n",
        "print(shuffle_inputs.shape)\n",
        "\n",
        "\n",
        "shuffle_outputs = test_outputs[list(shuffle_index),:]\n",
        "print(shuffle_outputs.shape)\n",
        "\n",
        "inputs_val = shuffle_inputs[:-validation_set_size]\n",
        "outputs_val = shuffle_outputs[:-validation_set_size]\n",
        "inputs_test = shuffle_inputs[-validation_set_size:]\n",
        "outputs_test = shuffle_outputs[-validation_set_size:]\n",
        "train_dataset = tf.data.Dataset.from_tensor_slices((inputs, outputs))\n",
        "train_dataset = train_dataset.shuffle(buffer_size=1024).batch(batch_size)\n",
        "\n",
        "val_dataset = tf.data.Dataset.from_tensor_slices((inputs_val, outputs_val))\n",
        "val_dataset = val_dataset.batch(batch_size)\n",
        "\n",
        "test_dataset = tf.data.Dataset.from_tensor_slices((inputs_test, outputs_test))\n",
        "test_dataset = test_dataset.batch(batch_size)"
      ]
    },
    {
      "cell_type": "markdown",
      "source": [
        "This block of code makes a function that will graph the loss and accuracy of the training model at each epoch."
      ],
      "metadata": {
        "id": "WXX0Nn0oks6n"
      }
    },
    {
      "cell_type": "code",
      "execution_count": null,
      "metadata": {
        "id": "ufl159WMX6px"
      },
      "outputs": [],
      "source": [
        "import matplotlib.pyplot as plt\n",
        "\n",
        "def plot_model_losses(training_metrics: list, testing_metrics: list, metric_name: str = 'Loss'):\n",
        "  plt.figure()\n",
        "  epochs_training = list(range(len(training_metrics)))\n",
        "  epochs_testing = list(range(len(testing_metrics)))\n",
        "  plt.plot(epochs_training, training_metrics, 'b-o', label='Training')\n",
        "  plt.plot(epochs_testing, testing_metrics, 'r-o', label='Testing')\n",
        "  plt.xlabel('Epochs')\n",
        "  plt.ylabel(metric_name)\n",
        "  plt.title(f'Model Performance - {metric_name}')\n",
        "  plt.legend()\n",
        "  plt.show()\n",
        "  plt.savefig(f'model_performance_{metric_name}.png')"
      ]
    },
    {
      "cell_type": "markdown",
      "source": [
        "This block of code creates the training loop, trains the moddel, and uses the function above to graph the accuracy and loss of the model throughout the training"
      ],
      "metadata": {
        "id": "kxZyGf9AmH73"
      }
    },
    {
      "cell_type": "code",
      "execution_count": null,
      "metadata": {
        "colab": {
          "base_uri": "https://localhost:8080/",
          "height": 628
        },
        "id": "1CyuoeVuZoDu",
        "outputId": "8b24387c-8538-4034-a24e-22def837dd43"
      },
      "outputs": [
        {
          "output_type": "display_data",
          "data": {
            "text/plain": [
              "<Figure size 432x288 with 0 Axes>"
            ]
          },
          "metadata": {}
        },
        {
          "output_type": "display_data",
          "data": {
            "text/plain": [
              "<Figure size 432x288 with 1 Axes>"
            ],
            "image/png": "[encoded data removed]"
          },
          "metadata": {
            "needs_background": "light"
          }
        },
        {
          "output_type": "display_data",
          "data": {
            "text/plain": [
              "<Figure size 432x288 with 0 Axes>"
            ]
          },
          "metadata": {}
        },
        {
          "output_type": "display_data",
          "data": {
            "text/plain": [
              "<Figure size 432x288 with 1 Axes>"
            ],
            "image/png": "[encoded data removed]"
          },
          "metadata": {
            "needs_background": "light"
          }
        },
        {
          "output_type": "display_data",
          "data": {
            "text/plain": [
              "<Figure size 432x288 with 0 Axes>"
            ]
          },
          "metadata": {}
        }
      ],
      "source": [
        "from IPython.display import clear_output\n",
        "\n",
        "epochs = 60\n",
        "train_metrics = {}\n",
        "test_metrics = {}\n",
        "\n",
        "model.compile(optimizer, loss_fn, metrics=['accuracy'])\n",
        "\n",
        "for epoch in range(epochs):\n",
        "    print(\"\\nStart of epoch %d\" % (epoch,))\n",
        "    for step, (inputs_batch, outputs_batch) in enumerate(train_dataset):\n",
        "       with tf.GradientTape() as tape:\n",
        "           logits = model(inputs_batch, training=True)\n",
        "           loss_value = loss_fn(outputs_batch, logits)\n",
        "       grads = tape.gradient(loss_value, model.trainable_weights)\n",
        "       optimizer.apply_gradients(zip(grads, model.trainable_weights))\n",
        "    test_result = model.evaluate(test_dataset)\n",
        "    for metric_name, metric_value in zip(model.metrics_names, test_result):\n",
        "      if metric_name not in test_metrics:\n",
        "        test_metrics[metric_name] = []\n",
        "      test_metrics[metric_name].append(metric_value)\n",
        "    train_result = model.evaluate(train_dataset)\n",
        "    for metric_name, metric_value in zip(model.metrics_names, train_result):\n",
        "      if metric_name not in train_metrics:\n",
        "        train_metrics[metric_name] = []     \n",
        "      train_metrics[metric_name].append(metric_value)\n",
        "    clear_output()\n",
        "    for metric_name in sorted(train_metrics.keys()):\n",
        "      plot_model_losses(train_metrics[metric_name], test_metrics[metric_name], metric_name)"
      ]
    },
    {
      "cell_type": "markdown",
      "source": [
        "This line code saves the trained model."
      ],
      "metadata": {
        "id": "jMGjEKmwmUUN"
      }
    },
    {
      "cell_type": "code",
      "source": [
        "model.save('MyModel')"
      ],
      "metadata": {
        "colab": {
          "base_uri": "https://localhost:8080/"
        },
        "id": "NgJeEbd-Z9pr",
        "outputId": "da943fa7-cb36-4668-c083-f713e3304d94"
      },
      "execution_count": null,
      "outputs": [
        {
          "output_type": "stream",
          "name": "stdout",
          "text": [
            "INFO:tensorflow:Assets written to: MyModel/assets\n"
          ]
        }
      ]
    },
    {
      "cell_type": "markdown",
      "source": [
        "This line of code saves the trained model as a variable"
      ],
      "metadata": {
        "id": "TQgG0Ak9mX5-"
      }
    },
    {
      "cell_type": "code",
      "source": [
        "loaded_model = keras.models.load_model(\"MyModel\")"
      ],
      "metadata": {
        "id": "V5Ek9jEWaW_U"
      },
      "execution_count": null,
      "outputs": []
    },
    {
      "cell_type": "markdown",
      "source": [
        "This line of code makes it possible to take a photo in Google Collab."
      ],
      "metadata": {
        "id": "Jy0ilfu2mj07"
      }
    },
    {
      "cell_type": "code",
      "execution_count": null,
      "metadata": {
        "id": "KmMHCEJIhQju"
      },
      "outputs": [],
      "source": [
        "from IPython.display import display, Javascript\n",
        "from google.colab.output import eval_js\n",
        "from base64 import b64decode\n",
        "\n",
        "def take_photo(filename='photo.jpg', quality=0.8):\n",
        "  js = Javascript('''\n",
        "    async function takePhoto(quality) {\n",
        "      const div = document.createElement('div');\n",
        "      const capture = document.createElement('button');\n",
        "      capture.textContent = 'Capture';\n",
        "      div.appendChild(capture);\n",
        "\n",
        "      const video = document.createElement('video');\n",
        "      video.style.display = 'block';\n",
        "      const stream = await navigator.mediaDevices.getUserMedia({video: true});\n",
        "\n",
        "      document.body.appendChild(div);\n",
        "      div.appendChild(video);\n",
        "      video.srcObject = stream;\n",
        "      await video.play();\n",
        "\n",
        "      // Resize the output to fit the video element.\n",
        "      google.colab.output.setIframeHeight(document.documentElement.scrollHeight, true);\n",
        "\n",
        "      // Wait for Capture to be clicked.\n",
        "      await new Promise((resolve) => capture.onclick = resolve);\n",
        "\n",
        "      const canvas = document.createElement('canvas');\n",
        "      canvas.width = video.videoWidth;\n",
        "      canvas.height = video.videoHeight;\n",
        "      canvas.getContext('2d').drawImage(video, 0, 0);\n",
        "      stream.getVideoTracks()[0].stop();\n",
        "      div.remove();\n",
        "      return canvas.toDataURL('image/jpeg', quality);\n",
        "    }\n",
        "    ''')\n",
        "  display(js)\n",
        "  data = eval_js('takePhoto({})'.format(quality))\n",
        "  binary = b64decode(data.split(',')[1])\n",
        "  with open(filename, 'wb') as f:\n",
        "    f.write(binary)\n",
        "  return filename\n",
        " "
      ]
    },
    {
      "cell_type": "markdown",
      "source": [
        "This code block takes a picture and uses the model to make a prediction on what color the picture is. "
      ],
      "metadata": {
        "id": "qSBUnNoompm5"
      }
    },
    {
      "cell_type": "code",
      "execution_count": null,
      "metadata": {
        "id": "bKZL2AbCjSng",
        "colab": {
          "base_uri": "https://localhost:8080/",
          "height": 54
        },
        "outputId": "a8f70e9d-82a9-4956-a230-7af7f07b4659"
      },
      "outputs": [
        {
          "output_type": "display_data",
          "data": {
            "text/plain": [
              "<IPython.core.display.Javascript object>"
            ],
            "application/javascript": [
              "\n",
              "    async function takePhoto(quality) {\n",
              "      const div = document.createElement('div');\n",
              "      const capture = document.createElement('button');\n",
              "      capture.textContent = 'Capture';\n",
              "      div.appendChild(capture);\n",
              "\n",
              "      const video = document.createElement('video');\n",
              "      video.style.display = 'block';\n",
              "      const stream = await navigator.mediaDevices.getUserMedia({video: true});\n",
              "\n",
              "      document.body.appendChild(div);\n",
              "      div.appendChild(video);\n",
              "      video.srcObject = stream;\n",
              "      await video.play();\n",
              "\n",
              "      // Resize the output to fit the video element.\n",
              "      google.colab.output.setIframeHeight(document.documentElement.scrollHeight, true);\n",
              "\n",
              "      // Wait for Capture to be clicked.\n",
              "      await new Promise((resolve) => capture.onclick = resolve);\n",
              "\n",
              "      const canvas = document.createElement('canvas');\n",
              "      canvas.width = video.videoWidth;\n",
              "      canvas.height = video.videoHeight;\n",
              "      canvas.getContext('2d').drawImage(video, 0, 0);\n",
              "      stream.getVideoTracks()[0].stop();\n",
              "      div.remove();\n",
              "      return canvas.toDataURL('image/jpeg', quality);\n",
              "    }\n",
              "    "
            ]
          },
          "metadata": {}
        },
        {
          "output_type": "stream",
          "name": "stdout",
          "text": [
            "Green \n",
            "\n"
          ]
        }
      ],
      "source": [
        "import os\n",
        "os.makedirs(\"ColorPredictions\", exist_ok=True)\n",
        "\n",
        "file_name = take_photo(\"ColorPredictions/color.jpg\", 0.8)\n",
        "output = load_images_in_directory(\"/content/ColorPredictions\")\n",
        "normalized = output / np.max(output)\n",
        "out_image = loaded_model.predict(normalized)\n",
        "labels = [line for line in open(\"Labels.txt\")]\n",
        "print(labels[np.argmax(out_image)])\n"
      ]
    }
  ],
  "metadata": {
    "colab": {
      "collapsed_sections": [],
      "name": "Submision BestColorIdentification ",
      "provenance": []
    },
    "kernelspec": {
      "display_name": "Python 3",
      "language": "python",
      "name": "python3"
    },
    "language_info": {
      "codemirror_mode": {
        "name": "ipython",
        "version": 3
      },
      "file_extension": ".py",
      "mimetype": "text/x-python",
      "name": "python",
      "nbconvert_exporter": "python",
      "pygments_lexer": "ipython3",
      "version": "3.7.0"
    }
  },
  "nbformat": 4,
  "nbformat_minor": 0
}